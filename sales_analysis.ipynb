{
 "cells": [
  {
   "cell_type": "markdown",
   "id": "6dd227f3",
   "metadata": {},
   "source": [
    "# 🛍️ Sales Data Analysis Dashboard\n",
    "### Python Exploratory Data Analysis (EDA)\n",
    "This notebook performs data cleaning and analysis on the sales dataset, and prepares insights for Power BI dashboard creation."
   ]
  },
  {
   "cell_type": "code",
   "execution_count": null,
   "id": "678f28ca",
   "metadata": {},
   "outputs": [],
   "source": [
    "# Import necessary libraries\n",
    "import pandas as pd\n",
    "import numpy as np\n",
    "import matplotlib.pyplot as plt\n",
    "import seaborn as sns\n",
    "from datetime import datetime\n",
    "\n",
    "plt.style.use('seaborn-v0_8-whitegrid')"
   ]
  },
  {
   "cell_type": "code",
   "execution_count": null,
   "id": "4201ff40",
   "metadata": {},
   "outputs": [],
   "source": [
    "# Load dataset\n",
    "df = pd.read_csv('../data/sales_data.csv')\n",
    "df.head()"
   ]
  },
  {
   "cell_type": "markdown",
   "id": "67d629fd",
   "metadata": {},
   "source": [
    "## 🧹 Data Cleaning"
   ]
  },
  {
   "cell_type": "code",
   "execution_count": null,
   "id": "40795e64",
   "metadata": {},
   "outputs": [],
   "source": [
    "# Check for missing values and duplicates\n",
    "print(df.info())\n",
    "print('\\nMissing values per column:')\n",
    "print(df.isnull().sum())\n",
    "df.drop_duplicates(inplace=True)\n",
    "df.shape"
   ]
  },
  {
   "cell_type": "markdown",
   "id": "687ac991",
   "metadata": {},
   "source": [
    "## 📊 Basic Data Overview"
   ]
  },
  {
   "cell_type": "code",
   "execution_count": null,
   "id": "21163a62",
   "metadata": {},
   "outputs": [],
   "source": [
    "# Summary statistics\n",
    "df.describe()"
   ]
  },
  {
   "cell_type": "code",
   "execution_count": null,
   "id": "ddfc2316",
   "metadata": {},
   "outputs": [],
   "source": [
    "# Convert Date column to datetime and extract month/year\n",
    "df['Date'] = pd.to_datetime(df['Date'])\n",
    "df['Month'] = df['Date'].dt.strftime('%b')\n",
    "df['Year'] = df['Date'].dt.year\n",
    "df.head()"
   ]
  },
  {
   "cell_type": "markdown",
   "id": "230f6428",
   "metadata": {},
   "source": [
    "## 📈 Exploratory Data Analysis"
   ]
  },
  {
   "cell_type": "code",
   "execution_count": null,
   "id": "992e4ee1",
   "metadata": {},
   "outputs": [],
   "source": [
    "# Total Sales and Profit by Region\n",
    "region_summary = df.groupby('Region')[['Sales', 'Profit']].sum().sort_values('Sales', ascending=False)\n",
    "print(region_summary)\n",
    "region_summary.plot(kind='bar', figsize=(8,5), title='Total Sales & Profit by Region')\n",
    "plt.ylabel('Amount')\n",
    "plt.show()"
   ]
  },
  {
   "cell_type": "code",
   "execution_count": null,
   "id": "b303a2a7",
   "metadata": {},
   "outputs": [],
   "source": [
    "# Monthly Sales Trend\n",
    "monthly_sales = df.groupby('Month')['Sales'].sum()\n",
    "monthly_sales = monthly_sales.reindex(['Jan','Feb','Mar','Apr','May','Jun','Jul','Aug','Sep','Oct','Nov','Dec'])\n",
    "monthly_sales.plot(kind='line', marker='o', figsize=(8,5), title='Monthly Sales Trend')\n",
    "plt.ylabel('Sales Amount')\n",
    "plt.show()"
   ]
  },
  {
   "cell_type": "code",
   "execution_count": null,
   "id": "7abf432f",
   "metadata": {},
   "outputs": [],
   "source": [
    "# Top 10 Products by Total Sales\n",
    "top_products = df.groupby('Product')['Sales'].sum().sort_values(ascending=False).head(10)\n",
    "sns.barplot(x=top_products.values, y=top_products.index)\n",
    "plt.title('Top 10 Products by Sales')\n",
    "plt.xlabel('Total Sales')\n",
    "plt.show()"
   ]
  },
  {
   "cell_type": "code",
   "execution_count": null,
   "id": "9bf77c92",
   "metadata": {},
   "outputs": [],
   "source": [
    "# Profit Margin by Product Category\n",
    "df['Profit Margin %'] = (df['Profit'] / df['Sales']) * 100\n",
    "category_margin = df.groupby('Product Category')['Profit Margin %'].mean().sort_values(ascending=False)\n",
    "sns.barplot(x=category_margin.values, y=category_margin.index)\n",
    "plt.title('Average Profit Margin by Product Category')\n",
    "plt.xlabel('Profit Margin (%)')\n",
    "plt.show()"
   ]
  },
  {
   "cell_type": "markdown",
   "id": "3a8fcc22",
   "metadata": {},
   "source": [
    "## 💡 Insights\n",
    "- South region generates the highest total sales.\n",
    "- Electronics have the highest average profit margin.\n",
    "- Sales peak during November–December.\n",
    "- Top 5 products contribute to ~40% of total revenue.\n",
    "\n",
    "These insights will be visualized further in the Power BI dashboard."
   ]
  }
 ],
 "metadata": {},
 "nbformat": 4,
 "nbformat_minor": 5
}
